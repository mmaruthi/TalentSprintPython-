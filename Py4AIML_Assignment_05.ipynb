{
  "nbformat": 4,
  "nbformat_minor": 0,
  "metadata": {
    "colab": {
      "name": "Py4AIML Assignment 05.ipynb",
      "provenance": [],
      "private_outputs": true,
      "include_colab_link": true
    },
    "kernelspec": {
      "name": "python3",
      "display_name": "Python 3"
    }
  },
  "cells": [
    {
      "cell_type": "markdown",
      "metadata": {
        "id": "view-in-github",
        "colab_type": "text"
      },
      "source": [
        "<a href=\"https://colab.research.google.com/github/mmaruthi/TalentSprintPython-/blob/master/Py4AIML_Assignment_05.ipynb\" target=\"_parent\"><img src=\"https://colab.research.google.com/assets/colab-badge.svg\" alt=\"Open In Colab\"/></a>"
      ]
    },
    {
      "cell_type": "markdown",
      "metadata": {
        "id": "QmLcx3UyVCoi",
        "colab_type": "text"
      },
      "source": [
        "## Pandas"
      ]
    },
    {
      "cell_type": "code",
      "metadata": {
        "id": "78HY6-yB9mnJ",
        "colab_type": "code",
        "colab": {}
      },
      "source": [
        "from google.colab import files \n",
        "uploaded = files.upload()"
      ],
      "execution_count": 0,
      "outputs": []
    },
    {
      "cell_type": "markdown",
      "metadata": {
        "id": "a7yix3imVWJx",
        "colab_type": "text"
      },
      "source": [
        "### Exercise 1: Read the file into pandas dataframe"
      ]
    },
    {
      "cell_type": "code",
      "metadata": {
        "id": "yjhPKW7KU6Xc",
        "colab_type": "code",
        "colab": {}
      },
      "source": [
        "import pandas as pd \n",
        "import numpy as np \n",
        "\n",
        "df = pd.read_csv(\"samplemoviedata.csv\")\n",
        "df.head()"
      ],
      "execution_count": 0,
      "outputs": []
    },
    {
      "cell_type": "markdown",
      "metadata": {
        "id": "Y5sTJNlOVbHp",
        "colab_type": "text"
      },
      "source": [
        "### Exercise 2: print the full summary of the dataframe"
      ]
    },
    {
      "cell_type": "code",
      "metadata": {
        "id": "Lo0uuLVRVk5y",
        "colab_type": "code",
        "colab": {}
      },
      "source": [
        "df.info()"
      ],
      "execution_count": 0,
      "outputs": []
    },
    {
      "cell_type": "code",
      "metadata": {
        "id": "ZyfOFL-O_Hcw",
        "colab_type": "code",
        "colab": {}
      },
      "source": [
        "df.isnull().any()"
      ],
      "execution_count": 0,
      "outputs": []
    },
    {
      "cell_type": "code",
      "metadata": {
        "id": "KrIx_38n_Xht",
        "colab_type": "code",
        "colab": {}
      },
      "source": [
        "df.isnull().sum()"
      ],
      "execution_count": 0,
      "outputs": []
    },
    {
      "cell_type": "markdown",
      "metadata": {
        "id": "Gi16ufjDVm8N",
        "colab_type": "text"
      },
      "source": [
        "### Exercise 3: Remove information of the movie which doesn’t have information on when the movie came out"
      ]
    },
    {
      "cell_type": "code",
      "metadata": {
        "id": "aEJOtrdqVs--",
        "colab_type": "code",
        "colab": {}
      },
      "source": [
        "#title_year column has 108 null values. Let us remove those rows.\n",
        "\n",
        "df1 = df.copy()\n",
        "\n",
        "df = df.dropna(axis=0, how='any', subset=['title_year'])"
      ],
      "execution_count": 0,
      "outputs": []
    },
    {
      "cell_type": "code",
      "metadata": {
        "id": "HyjZNNb0CBmd",
        "colab_type": "code",
        "colab": {}
      },
      "source": [
        "df.isnull().title_year.sum()"
      ],
      "execution_count": 0,
      "outputs": []
    },
    {
      "cell_type": "code",
      "metadata": {
        "id": "lE5fgRrICUuQ",
        "colab_type": "code",
        "colab": {}
      },
      "source": [
        "df.shape"
      ],
      "execution_count": 0,
      "outputs": []
    },
    {
      "cell_type": "markdown",
      "metadata": {
        "id": "jGWkh_zhChbT",
        "colab_type": "text"
      },
      "source": [
        "As we removed 108 rows - now rows reduced to 4935. So , we are good"
      ]
    },
    {
      "cell_type": "markdown",
      "metadata": {
        "id": "xzEHdi5kVuv_",
        "colab_type": "text"
      },
      "source": [
        "### Exercise 4: Change all movie titles to uppercase"
      ]
    },
    {
      "cell_type": "code",
      "metadata": {
        "id": "bhdFl6WiVzNA",
        "colab_type": "code",
        "colab": {}
      },
      "source": [
        "df.columns"
      ],
      "execution_count": 0,
      "outputs": []
    },
    {
      "cell_type": "code",
      "metadata": {
        "id": "fL0qS5ylDF7W",
        "colab_type": "code",
        "colab": {}
      },
      "source": [
        "df['movie_title'] = df['movie_title'].str.upper()\n",
        "\n",
        "df['movie_title'].head()"
      ],
      "execution_count": 0,
      "outputs": []
    },
    {
      "cell_type": "markdown",
      "metadata": {
        "id": "aaa6WpBEV2pF",
        "colab_type": "text"
      },
      "source": [
        "### Exercise 5: Remove the movie titles trailing whitespaces"
      ]
    },
    {
      "cell_type": "code",
      "metadata": {
        "id": "7HN--1MBV7si",
        "colab_type": "code",
        "colab": {}
      },
      "source": [
        "df['movie_title'] = df['movie_title'].str.strip()\n",
        "\n",
        "df['movie_title'].head(10)"
      ],
      "execution_count": 0,
      "outputs": []
    },
    {
      "cell_type": "code",
      "metadata": {
        "id": "e2TyGmNRF8va",
        "colab_type": "code",
        "colab": {}
      },
      "source": [
        "# Let us see how many movies are released each year \n",
        "\n",
        "import matplotlib.pyplot as plt \n",
        "import seaborn as sns \n",
        "\n",
        "movie_yearly_count = df['title_year'].value_counts().sort_index().plot(kind='bar', color='r', alpha=0.5, grid=False, rot=100)\n",
        "\n",
        "movie_yearly_count.set_ylabel('Year')\n",
        "movie_yearly_count.set_xlabel('Movie Count')\n",
        "movie_yearly_count.set_title('Movie Count by Year')\n",
        "\n"
      ],
      "execution_count": 0,
      "outputs": []
    },
    {
      "cell_type": "code",
      "metadata": {
        "id": "eTnmwCRDJeeE",
        "colab_type": "code",
        "colab": {}
      },
      "source": [
        "# Let us get the list of unique genres \n",
        "\n",
        "unique_genres = df['genres'].unique()\n",
        "\n",
        "unique_genres\n"
      ],
      "execution_count": 0,
      "outputs": []
    },
    {
      "cell_type": "code",
      "metadata": {
        "id": "0sqYVonsKEWx",
        "colab_type": "code",
        "colab": {}
      },
      "source": [
        "import itertools \n",
        "\n",
        "individual_genres = []\n",
        "for genre in unique_genres:\n",
        "    individual_genres.append(genre.split('|'))\n",
        "    individual_genres.append(genre.split(','))\n",
        "\n",
        "individual_genres = list(itertools.chain.from_iterable(individual_genres))\n",
        "individual_genres = set(individual_genres)\n",
        "\n",
        "individual_genres"
      ],
      "execution_count": 0,
      "outputs": []
    }
  ]
}