{
  "nbformat": 4,
  "nbformat_minor": 0,
  "metadata": {
    "colab": {
      "name": "Untitled17.ipynb",
      "provenance": [],
      "collapsed_sections": [],
      "authorship_tag": "ABX9TyOfQoM3ixBJBK0yF6ffLJkU",
      "include_colab_link": true
    },
    "kernelspec": {
      "name": "python3",
      "display_name": "Python 3"
    }
  },
  "cells": [
    {
      "cell_type": "markdown",
      "metadata": {
        "id": "view-in-github",
        "colab_type": "text"
      },
      "source": [
        "<a href=\"https://colab.research.google.com/github/mmaruthi/TalentSprintPython-/blob/master/Py4AIMLAssignment2.ipynb\" target=\"_parent\"><img src=\"https://colab.research.google.com/assets/colab-badge.svg\" alt=\"Open In Colab\"/></a>"
      ]
    },
    {
      "cell_type": "markdown",
      "metadata": {
        "id": "Ttb_709QHsi7",
        "colab_type": "text"
      },
      "source": [
        "##Problem Statement 01\n",
        "\n",
        "Implement a program which returns the compressed string of a given string\n",
        "\n",
        "Explanation:\n",
        "\n",
        "Reduce the length of the input string by replacing multiple continuou s\n",
        "occurrences of the same character by a number and the character.\n",
        "\n",
        "Example\n",
        "\n",
        "Input: \"aaa\"\n",
        "Output: \"3a\"\n",
        "Input : \"qqqprqcccaa\"\n",
        "Output: \"3qprpq3caa"
      ]
    },
    {
      "cell_type": "code",
      "metadata": {
        "id": "LqydD8U2H_IA",
        "colab_type": "code",
        "colab": {}
      },
      "source": [
        "def compressed(st):\n",
        "    count = 0\n",
        "    \n",
        "    if  (len(st) > 0):                        # First checking whther the string has any data \n",
        "          count = 1                             # Initiliazed the count with 1 , to compare adjacent alphabets and st[0] wont be equal to st[-1]  \n",
        "          outstr = \" \"                          # Initializing an output empty string \n",
        "\n",
        "          for i in range(1,len(st)):           # There is no need to check st[0] with st[-1], so started my loop with comparison of st[1] and st[0]\n",
        "              if st[i] == st[i-1]:              # Comparison of st[i] and st[i-1]\n",
        "                count += 1                     # Increase the count\n",
        "              else:\n",
        "                 outstr = outstr + str(count) + str(st[i-1])   # When Match not found , save it to string \n",
        "                 count = 1\n",
        "\n",
        "              if i+1==len(st):                                 # Logic to handl the corner case \n",
        "                 outstr = outstr+str(count)+str(st[i])         \n",
        "           \n",
        "          \n",
        "    return outstr\n",
        "\n",
        "           \n",
        "        "
      ],
      "execution_count": 0,
      "outputs": []
    },
    {
      "cell_type": "code",
      "metadata": {
        "id": "KcCvUWPhI2wp",
        "colab_type": "code",
        "colab": {
          "base_uri": "https://localhost:8080/",
          "height": 35
        },
        "outputId": "3bb2cd02-d39b-4889-a949-be698d5841a7"
      },
      "source": [
        "compressed(\"aaabbaaaacc\")"
      ],
      "execution_count": 82,
      "outputs": [
        {
          "output_type": "execute_result",
          "data": {
            "text/plain": [
              "' 3a2b4a2c'"
            ]
          },
          "metadata": {
            "tags": []
          },
          "execution_count": 82
        }
      ]
    },
    {
      "cell_type": "markdown",
      "metadata": {
        "id": "iveZxO1-ns7L",
        "colab_type": "text"
      },
      "source": [
        "## Problem Statement 02\n",
        "\n",
        "Find whether a given string has parentheses nested properly .\n",
        "Implement a function which accepts a string as an argument that contains a\n",
        "text. Find whether the parentheses inside it are properly nested .\n",
        "\n",
        "Note:\n",
        "The string will only contain open or/and closed parenthesis .\n",
        "\n",
        "Example:\n",
        "input – ((()))\n",
        "OutPut – True\n",
        "\n",
        "input – ()()\n",
        "OutPut – True\n",
        "\n",
        "input – (()))\n",
        "OutPut – False"
      ]
    },
    {
      "cell_type": "code",
      "metadata": {
        "id": "EvWDREiRn6xw",
        "colab_type": "code",
        "colab": {}
      },
      "source": [
        "def checkparan(st):                      # Defined 2 variables freqleft and freqright \n",
        "    freqleft = 0                         # initialized them to use each one for left and right paranthesis\n",
        "    freqright = 0\n",
        "\n",
        "    count = 0\n",
        "\n",
        "    paran = [\"(\",\")\"]                    # Created a list for paranthesis [\"(\",\")\"]  to use them for further comparison\n",
        "\n",
        "    for i in range(0,len(st)):\n",
        "        if st[i] == paran[0]:           # checking each character of string whether it's matching with left or right paranthesis\n",
        "           freqleft += 1                # Increasing the counts of the variables defined \n",
        "        elif st[i] == paran[1]: \n",
        "           freqright += 1\n",
        "        else:\n",
        "           count += 1\n",
        "           \n",
        "    if count > 0:\n",
        "       print (\"String contains values other than paranthesis as well\")  \n",
        "       return False \n",
        "             \n",
        "    if (freqleft == freqright):         # If left and right paranthesis count is equal , returns True else returns False \n",
        "        return True \n",
        "    else:\n",
        "        return False "
      ],
      "execution_count": 0,
      "outputs": []
    },
    {
      "cell_type": "code",
      "metadata": {
        "id": "pUR-6QwXp_Cc",
        "colab_type": "code",
        "colab": {
          "base_uri": "https://localhost:8080/",
          "height": 35
        },
        "outputId": "b360465f-51f6-4e1d-87d5-d4789809699c"
      },
      "source": [
        "checkparan(\"(((((((\")"
      ],
      "execution_count": 99,
      "outputs": [
        {
          "output_type": "execute_result",
          "data": {
            "text/plain": [
              "False"
            ]
          },
          "metadata": {
            "tags": []
          },
          "execution_count": 99
        }
      ]
    },
    {
      "cell_type": "code",
      "metadata": {
        "id": "tFJzeAJ8qNJG",
        "colab_type": "code",
        "colab": {
          "base_uri": "https://localhost:8080/",
          "height": 35
        },
        "outputId": "53b7ba67-b628-4983-95cf-8df2e3385edf"
      },
      "source": [
        "checkparan(\"()()()\")"
      ],
      "execution_count": 100,
      "outputs": [
        {
          "output_type": "execute_result",
          "data": {
            "text/plain": [
              "True"
            ]
          },
          "metadata": {
            "tags": []
          },
          "execution_count": 100
        }
      ]
    },
    {
      "cell_type": "code",
      "metadata": {
        "id": "sZunQ-bDsf02",
        "colab_type": "code",
        "colab": {
          "base_uri": "https://localhost:8080/",
          "height": 52
        },
        "outputId": "bc34b983-0909-41c1-9769-998f848c0085"
      },
      "source": [
        "checkparan(\"maruthi\")"
      ],
      "execution_count": 101,
      "outputs": [
        {
          "output_type": "stream",
          "text": [
            "String contains values other than paranthesis as well\n"
          ],
          "name": "stdout"
        },
        {
          "output_type": "execute_result",
          "data": {
            "text/plain": [
              "False"
            ]
          },
          "metadata": {
            "tags": []
          },
          "execution_count": 101
        }
      ]
    },
    {
      "cell_type": "markdown",
      "metadata": {
        "id": "6mQ8RKgUuQyL",
        "colab_type": "text"
      },
      "source": [
        "##Problem Statement 03\n",
        "\n",
        "An anagram is a word or phrase formed by rearranging the letters of a different word or phrase, typically using all the original letters exactly once .\n",
        "\n",
        "For example, the word anagram can be rearranged into nag a ram, or the word\n",
        "binary into brainy or the word adobe into abode.\n",
        "\n",
        "Given a list of strings, Implement a function(s) which will group anagram s\n",
        "together.\n",
        "\n",
        "Example:\n",
        "Input: [\"eat\", \"tea\", \"tan\", \"ate\", \"nat\", \"bat\"],\n",
        "\n",
        "Output:\n",
        "[\n",
        "[\"ate\",\"eat\",\"tea\"],\n",
        "[\"nat\",\"tan\"],\n",
        "[\"bat\"]\n",
        "]\n",
        "\n",
        "Note:\n",
        "● All inputs will be in lowercase.\n",
        "● The order of your output does not matter.\n",
        "Happy Programming!!"
      ]
    }
  ]
}