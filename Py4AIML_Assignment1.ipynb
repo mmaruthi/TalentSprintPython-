{
  "nbformat": 4,
  "nbformat_minor": 0,
  "metadata": {
    "colab": {
      "name": "Py4AIML-Assignment1.ipynb",
      "provenance": [],
      "authorship_tag": "ABX9TyNsrxafTrvOc0yhABj/XBxn",
      "include_colab_link": true
    },
    "kernelspec": {
      "name": "python3",
      "display_name": "Python 3"
    }
  },
  "cells": [
    {
      "cell_type": "markdown",
      "metadata": {
        "id": "view-in-github",
        "colab_type": "text"
      },
      "source": [
        "<a href=\"https://colab.research.google.com/github/mmaruthi/TalentSprintPython-/blob/master/Py4AIML_Assignment1.ipynb\" target=\"_parent\"><img src=\"https://colab.research.google.com/assets/colab-badge.svg\" alt=\"Open In Colab\"/></a>"
      ]
    },
    {
      "cell_type": "markdown",
      "metadata": {
        "id": "416wjlm-_d0Q",
        "colab_type": "text"
      },
      "source": [
        "###Problem Statement 01\n",
        "Implement a function which returns True if the argument given is Prim e\n",
        "number otherwise False\n",
        "\n",
        "Example:\n",
        "\n",
        "Name of function: isPrime() which accepts an integer and returns True or False\n",
        "\n",
        "1) isPrime(11) then return True.\n",
        "\n",
        "2) isPrime(4) then return False."
      ]
    },
    {
      "cell_type": "code",
      "metadata": {
        "id": "ghyWa7_A_qyh",
        "colab_type": "code",
        "colab": {}
      },
      "source": [
        "def isPrime(n) : \n",
        "  \n",
        "    # Corner cases \n",
        "    if (n <= 1) : \n",
        "        return False\n",
        "    if (n <= 3) : \n",
        "        return True\n",
        "  \n",
        "    # This is checked so that we can skip  \n",
        "    # middle five numbers in below loop \n",
        "    if (n % 2 == 0 or n % 3 == 0) : \n",
        "        return False\n",
        "  \n",
        "    i = 5\n",
        "    while(i * i <= n) : \n",
        "        if (n % i == 0 or n % (i + 2) == 0) : \n",
        "            return False\n",
        "        i = i + 6\n",
        "  \n",
        "    return True"
      ],
      "execution_count": 0,
      "outputs": []
    },
    {
      "cell_type": "code",
      "metadata": {
        "id": "zUFzqguMCJkp",
        "colab_type": "code",
        "colab": {
          "base_uri": "https://localhost:8080/",
          "height": 35
        },
        "outputId": "52f9c6d0-154d-4e50-d52d-3bce0ad34e3f"
      },
      "source": [
        "isPrime(2)"
      ],
      "execution_count": 3,
      "outputs": [
        {
          "output_type": "execute_result",
          "data": {
            "text/plain": [
              "True"
            ]
          },
          "metadata": {
            "tags": []
          },
          "execution_count": 3
        }
      ]
    },
    {
      "cell_type": "code",
      "metadata": {
        "id": "NpDqBl4gNBT6",
        "colab_type": "code",
        "colab": {
          "base_uri": "https://localhost:8080/",
          "height": 35
        },
        "outputId": "746f9e79-4a4a-47f5-fd77-e8b1edeb971a"
      },
      "source": [
        "isPrime(3)"
      ],
      "execution_count": 4,
      "outputs": [
        {
          "output_type": "execute_result",
          "data": {
            "text/plain": [
              "True"
            ]
          },
          "metadata": {
            "tags": []
          },
          "execution_count": 4
        }
      ]
    },
    {
      "cell_type": "code",
      "metadata": {
        "id": "vDFP0HNcVe_E",
        "colab_type": "code",
        "colab": {
          "base_uri": "https://localhost:8080/",
          "height": 35
        },
        "outputId": "a1400fec-0d06-4fee-b11e-273576d60bc0"
      },
      "source": [
        "isPrime(6)"
      ],
      "execution_count": 5,
      "outputs": [
        {
          "output_type": "execute_result",
          "data": {
            "text/plain": [
              "False"
            ]
          },
          "metadata": {
            "tags": []
          },
          "execution_count": 5
        }
      ]
    },
    {
      "cell_type": "markdown",
      "metadata": {
        "id": "6oNzIgQ_b1AX",
        "colab_type": "text"
      },
      "source": [
        "##Problem Statement 02\n",
        "Write a function(s) to find all 3 digit Armstrong numbers\n",
        "\n",
        "** An Armstrong number of three digits is an integer such that the sum of the cubes of its digits is equal to the number itself.\n",
        "\n",
        "Example:\n",
        "\n",
        "371 is an Armstrong number since 3**3 + 7**3 + 1**3 = 371 ."
      ]
    },
    {
      "cell_type": "code",
      "metadata": {
        "id": "T5OXLxMTcAHy",
        "colab_type": "code",
        "colab": {}
      },
      "source": [
        "def numarmstrong(a)\n",
        "    if len(str(a)) == 3:\n",
        "       Print(\"Check for Armstrong\")\n",
        "       b = a%10 \n",
        "       b = b**3 \n",
        "       \n",
        "    else:\n",
        "      Print(\"Length of the number should be 3 digits\")"
      ],
      "execution_count": 0,
      "outputs": []
    },
    {
      "cell_type": "markdown",
      "metadata": {
        "id": "CR9I6hygd73m",
        "colab_type": "text"
      },
      "source": [
        "##Problem Statement 03\n",
        "\n",
        "If we list all the natural numbers below 10 that are multiples of 3 or 5, we get 3, 5, 6 and 9. \n",
        "\n",
        "The sum of these multiples is 23.\n",
        "\n",
        "Implement a function to find the sum of all the multiples of 3 or 5 below 1000"
      ]
    }
  ]
}