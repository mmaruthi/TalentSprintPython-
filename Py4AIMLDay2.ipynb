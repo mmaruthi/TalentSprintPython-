{
  "nbformat": 4,
  "nbformat_minor": 0,
  "metadata": {
    "kernelspec": {
      "display_name": "Python 3",
      "language": "python",
      "name": "python3"
    },
    "language_info": {
      "codemirror_mode": {
        "name": "ipython",
        "version": 3
      },
      "file_extension": ".py",
      "mimetype": "text/x-python",
      "name": "python",
      "nbconvert_exporter": "python",
      "pygments_lexer": "ipython3",
      "version": "3.7.6"
    },
    "colab": {
      "name": "20200409.ipynb",
      "provenance": [],
      "collapsed_sections": [],
      "include_colab_link": true
    }
  },
  "cells": [
    {
      "cell_type": "markdown",
      "metadata": {
        "id": "view-in-github",
        "colab_type": "text"
      },
      "source": [
        "<a href=\"https://colab.research.google.com/github/mmaruthi/TalentSprintPython-/blob/master/Py4AIMLDay2.ipynb\" target=\"_parent\"><img src=\"https://colab.research.google.com/assets/colab-badge.svg\" alt=\"Open In Colab\"/></a>"
      ]
    },
    {
      "cell_type": "code",
      "metadata": {
        "id": "0T30uY-BYqG_",
        "colab_type": "code",
        "colab": {}
      },
      "source": [
        "a = [12, 67, -3, True, \"Hello\", 12 > 12, 7 + 8, [1, 2, 3]]"
      ],
      "execution_count": 0,
      "outputs": []
    },
    {
      "cell_type": "code",
      "metadata": {
        "id": "6TQ5GykwYqHD",
        "colab_type": "code",
        "outputId": "f018b853-b40c-4f90-f871-e814f74de548",
        "colab": {}
      },
      "source": [
        "a[0],a[3], a[-1], a[-3]"
      ],
      "execution_count": 0,
      "outputs": [
        {
          "output_type": "execute_result",
          "data": {
            "text/plain": [
              "(12, True, [1, 2, 3], False)"
            ]
          },
          "metadata": {
            "tags": []
          },
          "execution_count": 11
        }
      ]
    },
    {
      "cell_type": "code",
      "metadata": {
        "id": "4wMl8qIcYqHH",
        "colab_type": "code",
        "colab": {}
      },
      "source": [
        "a.remove(\"Hello\")"
      ],
      "execution_count": 0,
      "outputs": []
    },
    {
      "cell_type": "code",
      "metadata": {
        "id": "QyusyWcVYqHK",
        "colab_type": "code",
        "outputId": "c10a3a6e-d7d9-4010-ad6c-8f4e7ee36a70",
        "colab": {}
      },
      "source": [
        "a"
      ],
      "execution_count": 0,
      "outputs": [
        {
          "output_type": "execute_result",
          "data": {
            "text/plain": [
              "[12, 67, -3, True, False, 15, [1, 2, 3]]"
            ]
          },
          "metadata": {
            "tags": []
          },
          "execution_count": 13
        }
      ]
    },
    {
      "cell_type": "code",
      "metadata": {
        "id": "0c_iIIAkYqHP",
        "colab_type": "code",
        "colab": {}
      },
      "source": [
        "p = a.pop()"
      ],
      "execution_count": 0,
      "outputs": []
    },
    {
      "cell_type": "code",
      "metadata": {
        "id": "-G3F4AzPYqHR",
        "colab_type": "code",
        "outputId": "f8d44853-238f-424c-d1af-d29047b476af",
        "colab": {}
      },
      "source": [
        "a"
      ],
      "execution_count": 0,
      "outputs": [
        {
          "output_type": "execute_result",
          "data": {
            "text/plain": [
              "[12, 67, -3, True, False, 15]"
            ]
          },
          "metadata": {
            "tags": []
          },
          "execution_count": 15
        }
      ]
    },
    {
      "cell_type": "code",
      "metadata": {
        "id": "DlK0THpoYqHU",
        "colab_type": "code",
        "outputId": "527e11e0-85db-4145-abd2-ca55e8e657bb",
        "colab": {}
      },
      "source": [
        "p"
      ],
      "execution_count": 0,
      "outputs": [
        {
          "output_type": "execute_result",
          "data": {
            "text/plain": [
              "[1, 2, 3]"
            ]
          },
          "metadata": {
            "tags": []
          },
          "execution_count": 16
        }
      ]
    },
    {
      "cell_type": "code",
      "metadata": {
        "id": "kGQqvT-UYqHX",
        "colab_type": "code",
        "colab": {}
      },
      "source": [
        "a.pop?"
      ],
      "execution_count": 0,
      "outputs": []
    },
    {
      "cell_type": "code",
      "metadata": {
        "id": "6848BkgaYqHZ",
        "colab_type": "code",
        "colab": {}
      },
      "source": [
        "a.append([2, 12, -5])"
      ],
      "execution_count": 0,
      "outputs": []
    },
    {
      "cell_type": "code",
      "metadata": {
        "id": "EaVA5OjdYqHd",
        "colab_type": "code",
        "outputId": "f6babc0e-ccc8-4a3e-a10f-82e8333eecf8",
        "colab": {}
      },
      "source": [
        "a"
      ],
      "execution_count": 0,
      "outputs": [
        {
          "output_type": "execute_result",
          "data": {
            "text/plain": [
              "[12, 67, -3, True, False, 15, [2, 12, -5]]"
            ]
          },
          "metadata": {
            "tags": []
          },
          "execution_count": 19
        }
      ]
    },
    {
      "cell_type": "code",
      "metadata": {
        "id": "qU-0q7LGYqHf",
        "colab_type": "code",
        "outputId": "76f04c9a-61d1-4909-8742-4666a78f63f9",
        "colab": {}
      },
      "source": [
        "a[-1][2]"
      ],
      "execution_count": 0,
      "outputs": [
        {
          "output_type": "execute_result",
          "data": {
            "text/plain": [
              "-5"
            ]
          },
          "metadata": {
            "tags": []
          },
          "execution_count": 20
        }
      ]
    },
    {
      "cell_type": "code",
      "metadata": {
        "id": "E6pFc4R-YqHh",
        "colab_type": "code",
        "outputId": "b6ef8c21-06b2-41a4-b616-f0afb463ae53",
        "colab": {}
      },
      "source": [
        "a[-1][0]"
      ],
      "execution_count": 0,
      "outputs": [
        {
          "output_type": "execute_result",
          "data": {
            "text/plain": [
              "2"
            ]
          },
          "metadata": {
            "tags": []
          },
          "execution_count": 21
        }
      ]
    },
    {
      "cell_type": "code",
      "metadata": {
        "id": "wK_W-kjCYqHk",
        "colab_type": "code",
        "outputId": "546a37e8-8f26-4ca0-c048-f815c8519479",
        "colab": {}
      },
      "source": [
        "a[1][1]"
      ],
      "execution_count": 0,
      "outputs": [
        {
          "output_type": "error",
          "ename": "TypeError",
          "evalue": "'int' object is not subscriptable",
          "traceback": [
            "\u001b[1;31m---------------------------------------------------------------------------\u001b[0m",
            "\u001b[1;31mTypeError\u001b[0m                                 Traceback (most recent call last)",
            "\u001b[1;32m<ipython-input-22-c745a0194fb2>\u001b[0m in \u001b[0;36m<module>\u001b[1;34m\u001b[0m\n\u001b[1;32m----> 1\u001b[1;33m \u001b[0ma\u001b[0m\u001b[1;33m[\u001b[0m\u001b[1;36m1\u001b[0m\u001b[1;33m]\u001b[0m\u001b[1;33m[\u001b[0m\u001b[1;36m1\u001b[0m\u001b[1;33m]\u001b[0m\u001b[1;33m\u001b[0m\u001b[1;33m\u001b[0m\u001b[0m\n\u001b[0m",
            "\u001b[1;31mTypeError\u001b[0m: 'int' object is not subscriptable"
          ]
        }
      ]
    },
    {
      "cell_type": "code",
      "metadata": {
        "id": "Swt7KQCPYqHn",
        "colab_type": "code",
        "colab": {}
      },
      "source": [
        "f = [0, 1, 1, 2, 3, 5, 8, 13, 21, 34, 55, 89]"
      ],
      "execution_count": 0,
      "outputs": []
    },
    {
      "cell_type": "code",
      "metadata": {
        "id": "8yr90_-9YqHp",
        "colab_type": "code",
        "outputId": "04a4f0cf-3c72-4b99-865f-7b2abdd7047d",
        "colab": {}
      },
      "source": [
        "len(f)"
      ],
      "execution_count": 0,
      "outputs": [
        {
          "output_type": "execute_result",
          "data": {
            "text/plain": [
              "12"
            ]
          },
          "metadata": {
            "tags": []
          },
          "execution_count": 24
        }
      ]
    },
    {
      "cell_type": "code",
      "metadata": {
        "id": "KX3KCog5YqHr",
        "colab_type": "code",
        "outputId": "c10cdf54-81d8-4f68-b074-123588b44d79",
        "colab": {}
      },
      "source": [
        "f[7:11]"
      ],
      "execution_count": 0,
      "outputs": [
        {
          "output_type": "execute_result",
          "data": {
            "text/plain": [
              "[13, 21, 34, 55]"
            ]
          },
          "metadata": {
            "tags": []
          },
          "execution_count": 29
        }
      ]
    },
    {
      "cell_type": "code",
      "metadata": {
        "id": "W957nl2dYqHt",
        "colab_type": "code",
        "colab": {}
      },
      "source": [
        "g = f.copy()"
      ],
      "execution_count": 0,
      "outputs": []
    },
    {
      "cell_type": "code",
      "metadata": {
        "id": "NTf1HdcwYqHw",
        "colab_type": "code",
        "colab": {}
      },
      "source": [
        "g[6:9] = [3, 4]"
      ],
      "execution_count": 0,
      "outputs": []
    },
    {
      "cell_type": "code",
      "metadata": {
        "id": "hmkbqLxfYqHz",
        "colab_type": "code",
        "outputId": "93d8b2e4-f3b3-4b57-a4cd-fd656efb7448",
        "colab": {}
      },
      "source": [
        "g"
      ],
      "execution_count": 0,
      "outputs": [
        {
          "output_type": "execute_result",
          "data": {
            "text/plain": [
              "[0, 1, 1, 2, 3, 5, 3, 4, 34, 55, 89]"
            ]
          },
          "metadata": {
            "tags": []
          },
          "execution_count": 33
        }
      ]
    },
    {
      "cell_type": "code",
      "metadata": {
        "id": "9WLtyRkSYqH1",
        "colab_type": "code",
        "outputId": "b0ceee95-0dc5-40e8-9edb-cf07de0fd2f4",
        "colab": {}
      },
      "source": [
        "f[2:9:3]"
      ],
      "execution_count": 0,
      "outputs": [
        {
          "output_type": "execute_result",
          "data": {
            "text/plain": [
              "[1, 5, 21]"
            ]
          },
          "metadata": {
            "tags": []
          },
          "execution_count": 34
        }
      ]
    },
    {
      "cell_type": "code",
      "metadata": {
        "id": "0yv3Chs0YqH4",
        "colab_type": "code",
        "outputId": "02120e2e-80e6-4421-82a2-4dc76a9f8e4f",
        "colab": {}
      },
      "source": [
        "f"
      ],
      "execution_count": 0,
      "outputs": [
        {
          "output_type": "execute_result",
          "data": {
            "text/plain": [
              "[0, 1, 1, 2, 3, 5, 8, 13, 21, 34, 55, 89]"
            ]
          },
          "metadata": {
            "tags": []
          },
          "execution_count": 35
        }
      ]
    },
    {
      "cell_type": "code",
      "metadata": {
        "id": "mKF_VgakYqH7",
        "colab_type": "code",
        "outputId": "81eab902-fb4b-421b-d429-d9f50be24c90",
        "colab": {}
      },
      "source": [
        "f[:9:2]"
      ],
      "execution_count": 0,
      "outputs": [
        {
          "output_type": "execute_result",
          "data": {
            "text/plain": [
              "[0, 1, 3, 8, 21]"
            ]
          },
          "metadata": {
            "tags": []
          },
          "execution_count": 36
        }
      ]
    },
    {
      "cell_type": "code",
      "metadata": {
        "id": "FZfJCfGtYqH_",
        "colab_type": "code",
        "outputId": "087df63c-cef3-4088-9361-867a3a83172d",
        "colab": {}
      },
      "source": [
        "f[5::2]"
      ],
      "execution_count": 0,
      "outputs": [
        {
          "output_type": "execute_result",
          "data": {
            "text/plain": [
              "[5, 13, 34, 89]"
            ]
          },
          "metadata": {
            "tags": []
          },
          "execution_count": 38
        }
      ]
    },
    {
      "cell_type": "code",
      "metadata": {
        "id": "ayJyfaRjYqIB",
        "colab_type": "code",
        "outputId": "48298b69-4ba6-4668-f71b-8d900dddf46f",
        "colab": {}
      },
      "source": [
        "f[1:-1]"
      ],
      "execution_count": 0,
      "outputs": [
        {
          "output_type": "execute_result",
          "data": {
            "text/plain": [
              "[1, 1, 2, 3, 5, 8, 13, 21, 34, 55]"
            ]
          },
          "metadata": {
            "tags": []
          },
          "execution_count": 39
        }
      ]
    },
    {
      "cell_type": "code",
      "metadata": {
        "id": "KWd9j2hhYqID",
        "colab_type": "code",
        "outputId": "8306ab20-3df0-4f6e-b025-22aa8f0f0769",
        "colab": {}
      },
      "source": [
        "f[1:-1]"
      ],
      "execution_count": 0,
      "outputs": [
        {
          "output_type": "execute_result",
          "data": {
            "text/plain": [
              "[1, 1, 2, 3, 5, 8, 13, 21, 34, 55]"
            ]
          },
          "metadata": {
            "tags": []
          },
          "execution_count": 42
        }
      ]
    },
    {
      "cell_type": "code",
      "metadata": {
        "id": "u3zraOIwYqIG",
        "colab_type": "code",
        "outputId": "75a488af-45a3-4c11-a549-6d2e51a0e933",
        "colab": {}
      },
      "source": [
        "f[::2]"
      ],
      "execution_count": 0,
      "outputs": [
        {
          "output_type": "execute_result",
          "data": {
            "text/plain": [
              "[0, 1, 3, 8, 21, 55]"
            ]
          },
          "metadata": {
            "tags": []
          },
          "execution_count": 43
        }
      ]
    },
    {
      "cell_type": "code",
      "metadata": {
        "id": "YA1n2I7pYqIJ",
        "colab_type": "code",
        "outputId": "7856bbad-74fe-4404-8f87-9ba2c2bca1f2",
        "colab": {}
      },
      "source": [
        "f[1::2]"
      ],
      "execution_count": 0,
      "outputs": [
        {
          "output_type": "execute_result",
          "data": {
            "text/plain": [
              "[1, 2, 5, 13, 34, 89]"
            ]
          },
          "metadata": {
            "tags": []
          },
          "execution_count": 44
        }
      ]
    },
    {
      "cell_type": "code",
      "metadata": {
        "id": "tkVEB_ZvYqIL",
        "colab_type": "code",
        "outputId": "dc0e7e40-d2a5-49e7-ba31-7c8e89d1e7b3",
        "colab": {}
      },
      "source": [
        "f[::-1]"
      ],
      "execution_count": 0,
      "outputs": [
        {
          "output_type": "execute_result",
          "data": {
            "text/plain": [
              "[89, 55, 34, 21, 13, 8, 5, 3, 2, 1, 1, 0]"
            ]
          },
          "metadata": {
            "tags": []
          },
          "execution_count": 45
        }
      ]
    },
    {
      "cell_type": "code",
      "metadata": {
        "id": "0rs0VG_8YqIN",
        "colab_type": "code",
        "outputId": "83388b4c-c585-4721-8beb-a6dbdf5213cf",
        "colab": {}
      },
      "source": [
        "f[10:3:-1]"
      ],
      "execution_count": 0,
      "outputs": [
        {
          "output_type": "execute_result",
          "data": {
            "text/plain": [
              "[55, 34, 21, 13, 8, 5, 3]"
            ]
          },
          "metadata": {
            "tags": []
          },
          "execution_count": 46
        }
      ]
    },
    {
      "cell_type": "code",
      "metadata": {
        "id": "i-HX-yF-YqIP",
        "colab_type": "code",
        "outputId": "b07c8b66-cacf-4c1c-be5d-d5a0fff03765",
        "colab": {}
      },
      "source": [
        "f"
      ],
      "execution_count": 0,
      "outputs": [
        {
          "output_type": "execute_result",
          "data": {
            "text/plain": [
              "[0, 1, 1, 2, 3, 5, 8, 13, 21, 34, 55, 89]"
            ]
          },
          "metadata": {
            "tags": []
          },
          "execution_count": 47
        }
      ]
    },
    {
      "cell_type": "code",
      "metadata": {
        "id": "4q0O_0QFYqIS",
        "colab_type": "code",
        "outputId": "f917d604-0da8-4de8-8d9e-9066e4870237",
        "colab": {}
      },
      "source": [
        "f[3:10:-1]"
      ],
      "execution_count": 0,
      "outputs": [
        {
          "output_type": "execute_result",
          "data": {
            "text/plain": [
              "[]"
            ]
          },
          "metadata": {
            "tags": []
          },
          "execution_count": 49
        }
      ]
    },
    {
      "cell_type": "code",
      "metadata": {
        "id": "gCY9G-33YqIU",
        "colab_type": "code",
        "colab": {}
      },
      "source": [
        "a = \"Hello World\"\n",
        "b = 'Hola everyone'"
      ],
      "execution_count": 0,
      "outputs": []
    },
    {
      "cell_type": "code",
      "metadata": {
        "id": "43_CsZueYqIX",
        "colab_type": "code",
        "colab": {}
      },
      "source": [
        "s = 'Asokan said, \"Python is very powerful\" many times'"
      ],
      "execution_count": 0,
      "outputs": []
    },
    {
      "cell_type": "code",
      "metadata": {
        "id": "Z0m3yCQ2YqIZ",
        "colab_type": "code",
        "outputId": "0e7bba84-c0d9-4c19-b699-a2504d0a1782",
        "colab": {}
      },
      "source": [
        "print(s)"
      ],
      "execution_count": 0,
      "outputs": [
        {
          "output_type": "stream",
          "text": [
            "Asokan said, \"Python is very powerful\" many times\n"
          ],
          "name": "stdout"
        }
      ]
    },
    {
      "cell_type": "code",
      "metadata": {
        "id": "AurVNCvoYqId",
        "colab_type": "code",
        "colab": {}
      },
      "source": [
        "t = \"He said that he's h'ppy\""
      ],
      "execution_count": 0,
      "outputs": []
    },
    {
      "cell_type": "code",
      "metadata": {
        "id": "0Q1oBWAGYqIf",
        "colab_type": "code",
        "outputId": "6cfb8439-28c8-40fe-d01e-e4b00f4bf44a",
        "colab": {}
      },
      "source": [
        "print(t)"
      ],
      "execution_count": 0,
      "outputs": [
        {
          "output_type": "stream",
          "text": [
            "He said that he's h'ppy\n"
          ],
          "name": "stdout"
        }
      ]
    },
    {
      "cell_type": "code",
      "metadata": {
        "id": "KB89xgYRYqIh",
        "colab_type": "code",
        "outputId": "77b4b8d2-5455-4631-d803-08b8dbd6137c",
        "colab": {}
      },
      "source": [
        "s[::3]"
      ],
      "execution_count": 0,
      "outputs": [
        {
          "output_type": "execute_result",
          "data": {
            "text/plain": [
              "'Ak i yoivyorlmyis'"
            ]
          },
          "metadata": {
            "tags": []
          },
          "execution_count": 62
        }
      ]
    },
    {
      "cell_type": "code",
      "metadata": {
        "id": "oh_tA9RwYqIj",
        "colab_type": "code",
        "outputId": "8c38acd5-fb5c-4b51-d74b-54f04cd71ed8",
        "colab": {}
      },
      "source": [
        "s[::-1]"
      ],
      "execution_count": 0,
      "outputs": [
        {
          "output_type": "execute_result",
          "data": {
            "text/plain": [
              "'semit ynam \"lufrewop yrev si nohtyP\" ,dias nakosA'"
            ]
          },
          "metadata": {
            "tags": []
          },
          "execution_count": 63
        }
      ]
    },
    {
      "cell_type": "code",
      "metadata": {
        "id": "gbqOtnvOYqIl",
        "colab_type": "code",
        "colab": {}
      },
      "source": [
        "u = 'Ram\\'s brother lives in \"Hyderabd\"'"
      ],
      "execution_count": 0,
      "outputs": []
    },
    {
      "cell_type": "code",
      "metadata": {
        "id": "dJC-uv1QYqIo",
        "colab_type": "code",
        "outputId": "5ccaf99a-d162-4a57-8635-7f72032afbfa",
        "colab": {}
      },
      "source": [
        "print(u)"
      ],
      "execution_count": 0,
      "outputs": [
        {
          "output_type": "stream",
          "text": [
            "Ram's brother lives in \"Hyderabd\"\n"
          ],
          "name": "stdout"
        }
      ]
    },
    {
      "cell_type": "code",
      "metadata": {
        "id": "DPmZAwsgYqIq",
        "colab_type": "code",
        "colab": {}
      },
      "source": [
        "v = '''Ram's brother lives in \"Hyderabad\" '''"
      ],
      "execution_count": 0,
      "outputs": []
    },
    {
      "cell_type": "code",
      "metadata": {
        "id": "AClA3CMdYqIs",
        "colab_type": "code",
        "outputId": "3e76883a-b490-4f3b-deb2-b890d9831b06",
        "colab": {}
      },
      "source": [
        "print(v)"
      ],
      "execution_count": 0,
      "outputs": [
        {
          "output_type": "stream",
          "text": [
            "Ram's brother lives in \"Hyderabad\" \n"
          ],
          "name": "stdout"
        }
      ]
    },
    {
      "cell_type": "code",
      "metadata": {
        "id": "yqCcB-x8YqIv",
        "colab_type": "code",
        "colab": {}
      },
      "source": [
        "long = \"\"\"Long long ago, in a galaxy far far away\n",
        "there was a tyrant ruling them all. He built\n",
        "a super warship called 'DeathStar' \"\"\""
      ],
      "execution_count": 0,
      "outputs": []
    },
    {
      "cell_type": "code",
      "metadata": {
        "id": "lSNEK0GjYqIx",
        "colab_type": "code",
        "outputId": "632c3651-b497-48f6-9d14-9fb6bffe4791",
        "colab": {}
      },
      "source": [
        "print(long)"
      ],
      "execution_count": 0,
      "outputs": [
        {
          "output_type": "stream",
          "text": [
            "Long long ago, ina galaxy far far away\n",
            "there was a tyrant ruling them all. He built\n",
            "a super warship called 'DeathStar' \n"
          ],
          "name": "stdout"
        }
      ]
    },
    {
      "cell_type": "code",
      "metadata": {
        "id": "BiMuOTEIYqI0",
        "colab_type": "code",
        "colab": {}
      },
      "source": [
        "def square(x: int) -> int:\n",
        "    '''This is a trivial function just for explaining docstrings. \n",
        "    It returns the square of its argument.\n",
        "    Nothing special.'''\n",
        "    return x * x"
      ],
      "execution_count": 0,
      "outputs": []
    },
    {
      "cell_type": "code",
      "metadata": {
        "id": "CJ0I12RUYqI5",
        "colab_type": "code",
        "colab": {}
      },
      "source": [
        "square?"
      ],
      "execution_count": 0,
      "outputs": []
    },
    {
      "cell_type": "code",
      "metadata": {
        "id": "JVdK01grYqI7",
        "colab_type": "code",
        "colab": {}
      },
      "source": [
        " [7, 22, 11, 34, 17, 52, 26, 13, 40, 20, 10,  5, 16,  8,  4,  2,  1]\n",
        "\n",
        "29 88 44 22 11 34 17 52 26 13 40 20 10  5 16  8  4  2  1"
      ],
      "execution_count": 0,
      "outputs": []
    },
    {
      "cell_type": "code",
      "metadata": {
        "id": "lkc7x3gyYqI9",
        "colab_type": "code",
        "colab": {}
      },
      "source": [
        "def next_num(n: int) -> int:\n",
        "    return 3 * n + 1 if n % 2 == 1 else n // 2"
      ],
      "execution_count": 0,
      "outputs": []
    },
    {
      "cell_type": "code",
      "metadata": {
        "id": "x1DY0UuCYqI_",
        "colab_type": "code",
        "colab": {}
      },
      "source": [
        "def seq(n: int) -> [int]:\n",
        "    if n == 4:\n",
        "        return [4, 2, 1]\n",
        "    return [n] + seq(next_num(n))"
      ],
      "execution_count": 0,
      "outputs": []
    },
    {
      "cell_type": "code",
      "metadata": {
        "id": "Ds_utCQrYqJB",
        "colab_type": "code",
        "outputId": "ed762efb-1c41-43cc-d623-a27d7467c904",
        "colab": {}
      },
      "source": [
        "seq(29)"
      ],
      "execution_count": 0,
      "outputs": [
        {
          "output_type": "execute_result",
          "data": {
            "text/plain": [
              "[29, 88, 44, 22, 11, 34, 17, 52, 26, 13, 40, 20, 10, 5, 16, 8, 4, 2, 1]"
            ]
          },
          "metadata": {
            "tags": []
          },
          "execution_count": 81
        }
      ]
    },
    {
      "cell_type": "code",
      "metadata": {
        "id": "PwKLbKaRYqJE",
        "colab_type": "code",
        "colab": {}
      },
      "source": [
        "states = [\"TN\", \"TG\", \"AP\", \"MH\"]\n",
        "cities = [\"Chennai\", \"Hyderabad\", \"Amaravati\", \"Mumbai\"]"
      ],
      "execution_count": 0,
      "outputs": []
    },
    {
      "cell_type": "code",
      "metadata": {
        "id": "ioLOG_LtYqJF",
        "colab_type": "code",
        "colab": {}
      },
      "source": [
        "capitals = {\"TN\" :  \"Chennai\", \"TG\" : \"Hyderabad\", \"AP\" : \"Amaravati\", \n",
        "            \"MH\" : \"Mumbai\"}"
      ],
      "execution_count": 0,
      "outputs": []
    },
    {
      "cell_type": "code",
      "metadata": {
        "id": "w8jm4Q2dYqJJ",
        "colab_type": "code",
        "outputId": "213771e7-1c72-4607-c06b-8285f4e45dad",
        "colab": {}
      },
      "source": [
        "capitals[\"TG\"]"
      ],
      "execution_count": 0,
      "outputs": [
        {
          "output_type": "execute_result",
          "data": {
            "text/plain": [
              "'Hyderabad'"
            ]
          },
          "metadata": {
            "tags": []
          },
          "execution_count": 85
        }
      ]
    },
    {
      "cell_type": "code",
      "metadata": {
        "id": "cOFs-czFYqJM",
        "colab_type": "code",
        "colab": {}
      },
      "source": [
        "capitals[\"AP\"] = \"Amaravathi\""
      ],
      "execution_count": 0,
      "outputs": []
    },
    {
      "cell_type": "code",
      "metadata": {
        "id": "FZGyUNwkYqJP",
        "colab_type": "code",
        "outputId": "426732c9-c196-44bc-d5e6-d4abbf9735fb",
        "colab": {}
      },
      "source": [
        "capitals"
      ],
      "execution_count": 0,
      "outputs": [
        {
          "output_type": "execute_result",
          "data": {
            "text/plain": [
              "{'TN': 'Chennai', 'TG': 'Hyderabad', 'AP': 'Amaravathi', 'MH': 'Mumbai'}"
            ]
          },
          "metadata": {
            "tags": []
          },
          "execution_count": 87
        }
      ]
    },
    {
      "cell_type": "code",
      "metadata": {
        "id": "FARBRxZIYqJR",
        "colab_type": "code",
        "colab": {}
      },
      "source": [
        "capitals[\"KE\"] = \"Tiruvananthapuram\""
      ],
      "execution_count": 0,
      "outputs": []
    },
    {
      "cell_type": "code",
      "metadata": {
        "id": "Rk9lsHx8YqJU",
        "colab_type": "code",
        "outputId": "65321826-9f2d-45a9-a43d-a61e759de893",
        "colab": {}
      },
      "source": [
        "capitals"
      ],
      "execution_count": 0,
      "outputs": [
        {
          "output_type": "execute_result",
          "data": {
            "text/plain": [
              "{'TN': 'Chennai',\n",
              " 'TG': 'Hyderabad',\n",
              " 'AP': 'Amaravathi',\n",
              " 'MH': 'Mumbai',\n",
              " 'KE': 'Tiruvananthapuram'}"
            ]
          },
          "metadata": {
            "tags": []
          },
          "execution_count": 89
        }
      ]
    },
    {
      "cell_type": "code",
      "metadata": {
        "id": "wsx0JtIEYqJW",
        "colab_type": "code",
        "outputId": "c1e4264a-7804-4c41-c1b6-d8cac1e0e661",
        "colab": {}
      },
      "source": [
        "1 in range(7)"
      ],
      "execution_count": 0,
      "outputs": [
        {
          "output_type": "execute_result",
          "data": {
            "text/plain": [
              "True"
            ]
          },
          "metadata": {
            "tags": []
          },
          "execution_count": 90
        }
      ]
    },
    {
      "cell_type": "code",
      "metadata": {
        "id": "pSvsNvsYYqJZ",
        "colab_type": "code",
        "outputId": "caf43e89-c0f6-4ae1-f2d5-1d3ae0ac08b0",
        "colab": {}
      },
      "source": [
        "1 in [3, 8, -4]"
      ],
      "execution_count": 0,
      "outputs": [
        {
          "output_type": "execute_result",
          "data": {
            "text/plain": [
              "False"
            ]
          },
          "metadata": {
            "tags": []
          },
          "execution_count": 91
        }
      ]
    },
    {
      "cell_type": "code",
      "metadata": {
        "id": "YSX8LC1UYqJb",
        "colab_type": "code",
        "outputId": "b6ac399f-482c-4494-d6a0-799432d425f6",
        "colab": {}
      },
      "source": [
        "\"e\" in \"Hello World\""
      ],
      "execution_count": 0,
      "outputs": [
        {
          "output_type": "execute_result",
          "data": {
            "text/plain": [
              "True"
            ]
          },
          "metadata": {
            "tags": []
          },
          "execution_count": 92
        }
      ]
    },
    {
      "cell_type": "code",
      "metadata": {
        "id": "ODX0kHZ-YqJe",
        "colab_type": "code",
        "outputId": "aa3c46cf-7059-4c4b-cd22-df565718ab83",
        "colab": {}
      },
      "source": [
        "\"TN\" in capitals"
      ],
      "execution_count": 0,
      "outputs": [
        {
          "output_type": "execute_result",
          "data": {
            "text/plain": [
              "True"
            ]
          },
          "metadata": {
            "tags": []
          },
          "execution_count": 93
        }
      ]
    },
    {
      "cell_type": "code",
      "metadata": {
        "id": "SdNwnbSZYqJg",
        "colab_type": "code",
        "colab": {}
      },
      "source": [
        "long = \"\"\"Long long ago, in a galaxy far far away\n",
        "there was a tyrant ruling them all. He built\n",
        "a super warship called 'DeathStar'. A rebel Princess caught hold of \n",
        "its plans and sent it through R2D2\"\"\""
      ],
      "execution_count": 0,
      "outputs": []
    },
    {
      "cell_type": "code",
      "metadata": {
        "id": "JyzujmqmYqJh",
        "colab_type": "code",
        "outputId": "16335d55-43c4-47b8-9d77-ca0ab842f965",
        "colab": {}
      },
      "source": [
        "freq = {}\n",
        "for ch in long:\n",
        "    ch = ch.lower()\n",
        "    if ch not in freq:\n",
        "        freq[ch] = 1\n",
        "    else:\n",
        "        freq[ch] += 1\n",
        "print(freq)"
      ],
      "execution_count": 0,
      "outputs": [
        {
          "output_type": "stream",
          "text": [
            "{'l': 12, 'o': 6, 'n': 9, 'g': 7, ' ': 33, 'a': 21, ',': 1, 'i': 7, 'x': 1, 'y': 3, 'f': 4, 'r': 12, 'w': 3, '\\n': 3, 't': 12, 'h': 9, 'e': 11, 's': 9, 'u': 5, 'm': 1, '.': 2, 'b': 2, 'p': 4, 'c': 3, 'd': 5, \"'\": 2, '=': 1, '2': 2}\n"
          ],
          "name": "stdout"
        }
      ]
    },
    {
      "cell_type": "code",
      "metadata": {
        "id": "BcEkcVw3YqJj",
        "colab_type": "code",
        "colab": {}
      },
      "source": [
        ""
      ],
      "execution_count": 0,
      "outputs": []
    }
  ]
}