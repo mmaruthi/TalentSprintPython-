{
  "nbformat": 4,
  "nbformat_minor": 0,
  "metadata": {
    "colab": {
      "name": "Py4AIMLApril14.ipynb",
      "provenance": [],
      "private_outputs": true,
      "include_colab_link": true
    },
    "kernelspec": {
      "name": "python3",
      "display_name": "Python 3"
    }
  },
  "cells": [
    {
      "cell_type": "markdown",
      "metadata": {
        "id": "view-in-github",
        "colab_type": "text"
      },
      "source": [
        "<a href=\"https://colab.research.google.com/github/mmaruthi/TalentSprintPython-/blob/master/Py4AIMLDay5.ipynb\" target=\"_parent\"><img src=\"https://colab.research.google.com/assets/colab-badge.svg\" alt=\"Open In Colab\"/></a>"
      ]
    },
    {
      "cell_type": "code",
      "metadata": {
        "id": "QLidZnOe2m7Z",
        "colab_type": "code",
        "colab": {}
      },
      "source": [
        "!head -n 4 heightweightgender.csv"
      ],
      "execution_count": 0,
      "outputs": []
    },
    {
      "cell_type": "code",
      "metadata": {
        "id": "NS4z_2bO281s",
        "colab_type": "code",
        "colab": {}
      },
      "source": [
        "data = [line.strip() for line in open('heightweightgender.csv')]\n",
        "data[:10]"
      ],
      "execution_count": 0,
      "outputs": []
    },
    {
      "cell_type": "code",
      "metadata": {
        "id": "AsEg--Y83aQL",
        "colab_type": "code",
        "colab": {}
      },
      "source": [
        "FIRSTLINE = True\n",
        "data = []\n",
        "for line in open(\"heightweightgender.csv\"):\n",
        "    if FIRSTLINE:\n",
        "        FIRSTLINE = False\n",
        "    else:\n",
        "        line = line.strip()\n",
        "        data.append(line)\n",
        "print(data[:10])\n"
      ],
      "execution_count": 0,
      "outputs": []
    },
    {
      "cell_type": "code",
      "metadata": {
        "id": "1cPLd9Cv4Bop",
        "colab_type": "code",
        "colab": {}
      },
      "source": [
        "len(data)"
      ],
      "execution_count": 0,
      "outputs": []
    },
    {
      "cell_type": "code",
      "metadata": {
        "id": "0epGKFW-4Fnz",
        "colab_type": "code",
        "colab": {}
      },
      "source": [
        ""
      ],
      "execution_count": 0,
      "outputs": []
    },
    {
      "cell_type": "code",
      "metadata": {
        "colab_type": "code",
        "id": "QUth01m94R8R",
        "colab": {}
      },
      "source": [
        "FIRSTLINE = True\n",
        "COMMA = \",\"\n",
        "data = []\n",
        "for line in open(\"heightweightgender.csv\"):\n",
        "    if FIRSTLINE:\n",
        "        FIRSTLINE = False\n",
        "    else:\n",
        "        g, h, w = line.strip().split(COMMA)\n",
        "        data.append([g, h, w])\n",
        "print(data[:10])\n"
      ],
      "execution_count": 0,
      "outputs": []
    },
    {
      "cell_type": "code",
      "metadata": {
        "id": "ss2Mh8f-4iPg",
        "colab_type": "code",
        "colab": {}
      },
      "source": [
        "FIRSTLINE, COMMA = True, \",\"\n",
        "INCHES2CM, POUNDS2KG = 2.54, 0.454\n",
        "data = []\n",
        "for line in open(\"heightweightgender.csv\"):\n",
        "    if FIRSTLINE:\n",
        "        FIRSTLINE = False\n",
        "    else:\n",
        "        g, h, w = line.strip().split(COMMA)\n",
        "        h_in_cm = int(float(h) * INCHES2CM + 0.5)\n",
        "        w_in_kg = int(float(w) * POUNDS2KG + 0.5)\n",
        "        data.append([g, h_in_cm, w_in_kg])\n",
        "print(data[:10])"
      ],
      "execution_count": 0,
      "outputs": []
    },
    {
      "cell_type": "code",
      "metadata": {
        "id": "ADlxluxW5E_K",
        "colab_type": "code",
        "colab": {}
      },
      "source": [
        "import pandas as pd"
      ],
      "execution_count": 0,
      "outputs": []
    },
    {
      "cell_type": "code",
      "metadata": {
        "id": "jr12mwXE9NVz",
        "colab_type": "code",
        "colab": {}
      },
      "source": [
        "pd.read_csv(\"heightweightgender.csv\")"
      ],
      "execution_count": 0,
      "outputs": []
    },
    {
      "cell_type": "code",
      "metadata": {
        "id": "19jvcEqN9TNB",
        "colab_type": "code",
        "colab": {}
      },
      "source": [
        "data = pd.read_csv(\"heightweightgender.csv\")"
      ],
      "execution_count": 0,
      "outputs": []
    },
    {
      "cell_type": "code",
      "metadata": {
        "id": "j6EXQn0V9xkO",
        "colab_type": "code",
        "colab": {}
      },
      "source": [
        "data.describe()"
      ],
      "execution_count": 0,
      "outputs": []
    },
    {
      "cell_type": "code",
      "metadata": {
        "id": "Yv-cYAH296dv",
        "colab_type": "code",
        "colab": {}
      },
      "source": [
        "def inches2cm(s: str) -> int:\n",
        "    return int(float(s) * 2.54 + 0.5)\n",
        "def pounds2kg(s: str) -> int:\n",
        "    return int(float(s) * 0.454 + 0.5)"
      ],
      "execution_count": 0,
      "outputs": []
    },
    {
      "cell_type": "code",
      "metadata": {
        "id": "muCSyn9K-ZsS",
        "colab_type": "code",
        "colab": {}
      },
      "source": [
        "data = pd.read_csv(\"heightweightgender.csv\", converters={\"Height\": inches2cm, \"Weight\": pounds2kg})"
      ],
      "execution_count": 0,
      "outputs": []
    },
    {
      "cell_type": "code",
      "metadata": {
        "id": "uBrp-eec-tvH",
        "colab_type": "code",
        "colab": {}
      },
      "source": [
        "data[:10]"
      ],
      "execution_count": 0,
      "outputs": []
    },
    {
      "cell_type": "code",
      "metadata": {
        "id": "dq2c9ArZ-wDx",
        "colab_type": "code",
        "colab": {}
      },
      "source": [
        "!head heightweightgender.csv"
      ],
      "execution_count": 0,
      "outputs": []
    },
    {
      "cell_type": "code",
      "metadata": {
        "id": "U68U28DT_IqC",
        "colab_type": "code",
        "colab": {}
      },
      "source": [
        "pd.read_csv?"
      ],
      "execution_count": 0,
      "outputs": []
    },
    {
      "cell_type": "code",
      "metadata": {
        "id": "zecVqa0P_2x3",
        "colab_type": "code",
        "colab": {}
      },
      "source": [
        "import matplotlib.pyplot as plt"
      ],
      "execution_count": 0,
      "outputs": []
    },
    {
      "cell_type": "code",
      "metadata": {
        "id": "u6KgJXAnB913",
        "colab_type": "code",
        "colab": {}
      },
      "source": [
        "data[\"Height\"]"
      ],
      "execution_count": 0,
      "outputs": []
    },
    {
      "cell_type": "code",
      "metadata": {
        "id": "AVg9_F03CHU0",
        "colab_type": "code",
        "colab": {}
      },
      "source": [
        "data.Weight"
      ],
      "execution_count": 0,
      "outputs": []
    },
    {
      "cell_type": "code",
      "metadata": {
        "id": "kO_pTncgCO7M",
        "colab_type": "code",
        "colab": {}
      },
      "source": [
        "plt.plot(data.Height, data.Weight, \"k*\")\n",
        "plt.xlabel(\"Height (cm)\")\n",
        "plt.ylabel(\"Weight (kg)\")\n",
        "plt.show()"
      ],
      "execution_count": 0,
      "outputs": []
    },
    {
      "cell_type": "code",
      "metadata": {
        "id": "De4VO4FOCfkn",
        "colab_type": "code",
        "colab": {}
      },
      "source": [
        "Female = data[data.Gender == \"Female\"]\n",
        "Male = data[data.Gender == \"Male\"]"
      ],
      "execution_count": 0,
      "outputs": []
    },
    {
      "cell_type": "code",
      "metadata": {
        "id": "u0V1h-NfDTzJ",
        "colab_type": "code",
        "colab": {}
      },
      "source": [
        "plt.plot(Female.Weight, Female.Height, \"r.\")\n",
        "plt.plot(Male.Weight, Male.Height, \"k+\")\n",
        "plt.legend([\"Women\", \"Men\"])\n",
        "plt.show()"
      ],
      "execution_count": 0,
      "outputs": []
    },
    {
      "cell_type": "code",
      "metadata": {
        "id": "ssTm67YZDmke",
        "colab_type": "code",
        "colab": {}
      },
      "source": [
        "plt.legend?"
      ],
      "execution_count": 0,
      "outputs": []
    },
    {
      "cell_type": "code",
      "metadata": {
        "id": "8ABq0rl4EV5U",
        "colab_type": "code",
        "colab": {}
      },
      "source": [
        "plt.plot(Male.Height, \"k+\")"
      ],
      "execution_count": 0,
      "outputs": []
    },
    {
      "cell_type": "code",
      "metadata": {
        "id": "F3FL53zGFcbL",
        "colab_type": "code",
        "colab": {}
      },
      "source": [
        "tall = data[data.Height >= 180]"
      ],
      "execution_count": 0,
      "outputs": []
    },
    {
      "cell_type": "code",
      "metadata": {
        "id": "o9CrXZH2GC8k",
        "colab_type": "code",
        "colab": {}
      },
      "source": [
        "short = data[data.Height<= 160]"
      ],
      "execution_count": 0,
      "outputs": []
    },
    {
      "cell_type": "code",
      "metadata": {
        "id": "u_UdM9GMGMfa",
        "colab_type": "code",
        "colab": {}
      },
      "source": [
        "plt.plot(tall.Height, tall.Weight, \"r+\")\n",
        "plt.plot(short.Height, short.Weight, \"g.\")\n",
        "plt.show()"
      ],
      "execution_count": 0,
      "outputs": []
    },
    {
      "cell_type": "code",
      "metadata": {
        "id": "kKAZmYLnGcOE",
        "colab_type": "code",
        "colab": {}
      },
      "source": [
        "ends = data[(data.Height < 160) | (data.Height > 180)]"
      ],
      "execution_count": 0,
      "outputs": []
    },
    {
      "cell_type": "code",
      "metadata": {
        "id": "oUK9768hHtAC",
        "colab_type": "code",
        "colab": {}
      },
      "source": [
        "m_ends = ends[ends.Gender == \"Male\"]\n",
        "f_ends = ends[ends.Gender == \"Female\"]\n",
        "plt.plot(m_ends.Height, m_ends.Weight, \"k+\")\n",
        "plt.plot(f_ends.Height, f_ends.Weight, \"g.\")\n",
        "plt.show()"
      ],
      "execution_count": 0,
      "outputs": []
    },
    {
      "cell_type": "code",
      "metadata": {
        "id": "Nz4u_UvdIJG7",
        "colab_type": "code",
        "colab": {}
      },
      "source": [
        "Female.describe()"
      ],
      "execution_count": 0,
      "outputs": []
    },
    {
      "cell_type": "code",
      "metadata": {
        "id": "Q5rji5xjISLC",
        "colab_type": "code",
        "colab": {}
      },
      "source": [
        ""
      ],
      "execution_count": 0,
      "outputs": []
    }
  ]
}