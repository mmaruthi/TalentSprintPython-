{
  "nbformat": 4,
  "nbformat_minor": 0,
  "metadata": {
    "colab": {
      "name": "Py4AIML Assignment 04.ipynb",
      "provenance": [],
      "private_outputs": true,
      "include_colab_link": true
    },
    "kernelspec": {
      "name": "python3",
      "display_name": "Python 3"
    }
  },
  "cells": [
    {
      "cell_type": "markdown",
      "metadata": {
        "id": "view-in-github",
        "colab_type": "text"
      },
      "source": [
        "<a href=\"https://colab.research.google.com/github/mmaruthi/TalentSprintPython-/blob/master/Py4AIML_Assignment_04.ipynb\" target=\"_parent\"><img src=\"https://colab.research.google.com/assets/colab-badge.svg\" alt=\"Open In Colab\"/></a>"
      ]
    },
    {
      "cell_type": "markdown",
      "metadata": {
        "id": "Sn9oCru0WMPC",
        "colab_type": "text"
      },
      "source": [
        "## Numpy"
      ]
    },
    {
      "cell_type": "markdown",
      "metadata": {
        "id": "2LoJVwbqWQL3",
        "colab_type": "text"
      },
      "source": [
        "### Exercise 1: Create a 10x10 array.and find minimum number and maximum number along axis 1"
      ]
    },
    {
      "cell_type": "code",
      "metadata": {
        "id": "hcPaG0gFWLBm",
        "colab_type": "code",
        "colab": {}
      },
      "source": [
        "import numpy as np\n",
        "arr10 = np.arange(0,100).reshape(10,10)\n",
        "print(arr10)\n",
        "\n",
        "\n",
        "maxInRows = np.amax(arr10, axis=1)\n",
        "print('Max value of every Row: ', maxInRows)\n",
        "\n"
      ],
      "execution_count": 0,
      "outputs": []
    },
    {
      "cell_type": "markdown",
      "metadata": {
        "id": "ctj8hr3XWwBw",
        "colab_type": "text"
      },
      "source": [
        "### Exercise 2: Create an array of the first 20 odd integers"
      ]
    },
    {
      "cell_type": "code",
      "metadata": {
        "id": "rbvkBuRdV558",
        "colab_type": "code",
        "colab": {}
      },
      "source": [
        "import numpy as np\n",
        "arr_odd=np.arange(1,40,2)\n",
        "print(\"Array of first 20 odd integers\")\n",
        "print(arr_odd) "
      ],
      "execution_count": 0,
      "outputs": []
    },
    {
      "cell_type": "markdown",
      "metadata": {
        "id": "mOLKxH_SW3Fg",
        "colab_type": "text"
      },
      "source": [
        "### Exercise 3: .Create a 5x5 matrix with values 1,2,3,4 just below the diagonal"
      ]
    },
    {
      "cell_type": "code",
      "metadata": {
        "id": "JZ87PPEhW9OF",
        "colab_type": "code",
        "colab": {}
      },
      "source": [
        "import numpy as np\n",
        "arr_diag = np.diag([1, 2, 3, 4])\n",
        "print(arr_diag)"
      ],
      "execution_count": 0,
      "outputs": []
    },
    {
      "cell_type": "markdown",
      "metadata": {
        "id": "kph14lD5XBcm",
        "colab_type": "text"
      },
      "source": [
        "### Exercise 4: 2x+3y=13 3x+y=9 find the value of x and y."
      ]
    },
    {
      "cell_type": "code",
      "metadata": {
        "id": "ZnQk4qTuXEtU",
        "colab_type": "code",
        "colab": {}
      },
      "source": [
        "A = np.array([[2, 3], [3, 1]])\n",
        "B = np.array([13, 9])\n",
        "X = np.linalg.solve(A,B)\n",
        "\n",
        "print(X)"
      ],
      "execution_count": 0,
      "outputs": []
    },
    {
      "cell_type": "markdown",
      "metadata": {
        "id": "4mY7BD0PXH5y",
        "colab_type": "text"
      },
      "source": [
        "### Exercise 5: Compute $e^x$, element-wise for a sample array"
      ]
    },
    {
      "cell_type": "code",
      "metadata": {
        "id": "5qCVqKKrXM8j",
        "colab_type": "code",
        "colab": {}
      },
      "source": [
        "import numpy as np\n",
        "x = np.array([1, 2, 3, 4])\n",
        "print(x)\n",
        "\n",
        "print(\"Exponential values exp(x):\")\n",
        "r = np.exp(x)\n",
        "print(r)"
      ],
      "execution_count": 0,
      "outputs": []
    }
  ]
}