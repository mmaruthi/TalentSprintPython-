{
  "nbformat": 4,
  "nbformat_minor": 0,
  "metadata": {
    "colab": {
      "name": "Py4AIMLDay01.ipynb",
      "provenance": [],
      "private_outputs": true,
      "collapsed_sections": [],
      "include_colab_link": true
    },
    "kernelspec": {
      "name": "python3",
      "display_name": "Python 3"
    }
  },
  "cells": [
    {
      "cell_type": "markdown",
      "metadata": {
        "id": "view-in-github",
        "colab_type": "text"
      },
      "source": [
        "<a href=\"https://colab.research.google.com/github/mmaruthi/TalentSprintPython-/blob/master/Py4AIMLDay01.ipynb\" target=\"_parent\"><img src=\"https://colab.research.google.com/assets/colab-badge.svg\" alt=\"Open In Colab\"/></a>"
      ]
    },
    {
      "cell_type": "code",
      "metadata": {
        "id": "XI0kU1p9_R-z",
        "colab_type": "code",
        "colab": {}
      },
      "source": [
        "!python --version"
      ],
      "execution_count": 0,
      "outputs": []
    },
    {
      "cell_type": "code",
      "metadata": {
        "id": "U05IKYIeAlQg",
        "colab_type": "code",
        "colab": {}
      },
      "source": [
        "!ls"
      ],
      "execution_count": 0,
      "outputs": []
    },
    {
      "cell_type": "code",
      "metadata": {
        "id": "1WPJ74ppBy2t",
        "colab_type": "code",
        "colab": {}
      },
      "source": [
        ""
      ],
      "execution_count": 0,
      "outputs": []
    },
    {
      "cell_type": "markdown",
      "metadata": {
        "id": "o-UMmkSECDll",
        "colab_type": "text"
      },
      "source": [
        "### Variables, Data Types\n",
        "### Looping\n",
        "### Conditions\n",
        "### Functions"
      ]
    },
    {
      "cell_type": "code",
      "metadata": {
        "id": "slNMjEpFCRkQ",
        "colab_type": "code",
        "colab": {}
      },
      "source": [
        "a = 7"
      ],
      "execution_count": 0,
      "outputs": []
    },
    {
      "cell_type": "code",
      "metadata": {
        "id": "g7X5JuCcC3lD",
        "colab_type": "code",
        "colab": {}
      },
      "source": [
        "a = \"Hello\""
      ],
      "execution_count": 0,
      "outputs": []
    },
    {
      "cell_type": "code",
      "metadata": {
        "id": "gZapWKMcC9qB",
        "colab_type": "code",
        "colab": {}
      },
      "source": [
        ""
      ],
      "execution_count": 0,
      "outputs": []
    },
    {
      "cell_type": "markdown",
      "metadata": {
        "id": "BIcLPWouDWb1",
        "colab_type": "text"
      },
      "source": [
        "### Scalar Data types\n",
        "#### Integers\n",
        "#### Floats\n",
        "#### Booleans\n",
        "#### Complex"
      ]
    },
    {
      "cell_type": "code",
      "metadata": {
        "id": "ftef3mzeDMZx",
        "colab_type": "code",
        "colab": {}
      },
      "source": [
        "p = 1234567890\n",
        "q = p * p * p\n",
        "r = q * q * q * q * q\n",
        "s = r * r * r * r * r * r * r\n"
      ],
      "execution_count": 0,
      "outputs": []
    },
    {
      "cell_type": "code",
      "metadata": {
        "id": "Cp6jtGFSD8NT",
        "colab_type": "code",
        "colab": {}
      },
      "source": [
        "print(len(str(s)))"
      ],
      "execution_count": 0,
      "outputs": []
    },
    {
      "cell_type": "code",
      "metadata": {
        "id": "44y6k0Tk9aXS",
        "colab_type": "code",
        "colab": {}
      },
      "source": [
        "print(s)"
      ],
      "execution_count": 0,
      "outputs": []
    },
    {
      "cell_type": "code",
      "metadata": {
        "id": "mBSZCtTJD-be",
        "colab_type": "code",
        "colab": {}
      },
      "source": [
        "True, False"
      ],
      "execution_count": 0,
      "outputs": []
    },
    {
      "cell_type": "code",
      "metadata": {
        "id": "4mJSz7zIEOdX",
        "colab_type": "code",
        "colab": {}
      },
      "source": [
        "7 + 6j"
      ],
      "execution_count": 0,
      "outputs": []
    },
    {
      "cell_type": "markdown",
      "metadata": {
        "id": "KiSGCNT4EXn0",
        "colab_type": "text"
      },
      "source": [
        "* + PLUS for addition\n",
        "* - MINUS for subtraction\n",
        "* * STAR for Multiplication\n",
        "* / SLASH for regular division\n",
        "* // for Integer division"
      ]
    },
    {
      "cell_type": "code",
      "metadata": {
        "id": "TMHfxiphEjLT",
        "colab_type": "code",
        "colab": {}
      },
      "source": [
        "7 //3"
      ],
      "execution_count": 0,
      "outputs": []
    },
    {
      "cell_type": "code",
      "metadata": {
        "id": "1fdW-nXcEye4",
        "colab_type": "code",
        "colab": {}
      },
      "source": [
        "17 % 5"
      ],
      "execution_count": 0,
      "outputs": []
    },
    {
      "cell_type": "code",
      "metadata": {
        "id": "4UemXL-NE3e2",
        "colab_type": "code",
        "colab": {}
      },
      "source": [
        "6 ** 10"
      ],
      "execution_count": 0,
      "outputs": []
    },
    {
      "cell_type": "code",
      "metadata": {
        "id": "IxR62DjAE5iM",
        "colab_type": "code",
        "colab": {}
      },
      "source": [
        "a = 12\n",
        "b = 17\n",
        "a < b, a <= b, a > b, a >= b, a == b, a != b\n"
      ],
      "execution_count": 0,
      "outputs": []
    },
    {
      "cell_type": "code",
      "metadata": {
        "id": "V53uh2lxFEk-",
        "colab_type": "code",
        "colab": {}
      },
      "source": [
        "10 < a < 20"
      ],
      "execution_count": 0,
      "outputs": []
    },
    {
      "cell_type": "code",
      "metadata": {
        "id": "zDFIQnPuFPXm",
        "colab_type": "code",
        "colab": {}
      },
      "source": [
        "x = 70 if a > 10 else 80"
      ],
      "execution_count": 0,
      "outputs": []
    },
    {
      "cell_type": "code",
      "metadata": {
        "id": "zRUZ1eUYF0UI",
        "colab_type": "code",
        "colab": {}
      },
      "source": [
        "if a > 10:\n",
        "    a = a - 1\n",
        "    x = 70\n",
        "else:\n",
        "    a = a + 1\n",
        "    x = 80\n",
        "print(x)"
      ],
      "execution_count": 0,
      "outputs": []
    },
    {
      "cell_type": "code",
      "metadata": {
        "id": "v1M0ttmLIUvP",
        "colab_type": "code",
        "colab": {}
      },
      "source": [
        "if x > 0:\n",
        "    print(\"Good! You are positive\")\n",
        "elif x == 0:\n",
        "    print(\"Hmm. Neither here nor there, eh\")\n",
        "else:\n",
        "    print(\"You are neagtive. Why?\")"
      ],
      "execution_count": 0,
      "outputs": []
    },
    {
      "cell_type": "code",
      "metadata": {
        "id": "yqMjVFrPI0_s",
        "colab_type": "code",
        "colab": {}
      },
      "source": [
        "a = 7\n",
        "while a > 0:\n",
        "    a = a - 1\n",
        "    print(a, x)\n",
        "print(\"Over\")"
      ],
      "execution_count": 0,
      "outputs": []
    },
    {
      "cell_type": "code",
      "metadata": {
        "id": "jvfwjuZgJFCj",
        "colab_type": "code",
        "colab": {}
      },
      "source": [
        "pp = input()"
      ],
      "execution_count": 0,
      "outputs": []
    },
    {
      "cell_type": "code",
      "metadata": {
        "id": "i4mMhWvrKcvI",
        "colab_type": "code",
        "colab": {}
      },
      "source": [
        "pp"
      ],
      "execution_count": 0,
      "outputs": []
    },
    {
      "cell_type": "code",
      "metadata": {
        "id": "r0VIp22XKf0O",
        "colab_type": "code",
        "colab": {}
      },
      "source": [
        "def potter(a, b):\n",
        "    return a * b - 1"
      ],
      "execution_count": 0,
      "outputs": []
    },
    {
      "cell_type": "code",
      "metadata": {
        "id": "_28grpQTK8Ws",
        "colab_type": "code",
        "colab": {}
      },
      "source": [
        "save = potter(12, 18)"
      ],
      "execution_count": 0,
      "outputs": []
    },
    {
      "cell_type": "code",
      "metadata": {
        "id": "3nMuGds0LArN",
        "colab_type": "code",
        "colab": {}
      },
      "source": [
        "def potter(a: int, b: int) -> int:\n",
        "    return a * b - 1"
      ],
      "execution_count": 0,
      "outputs": []
    },
    {
      "cell_type": "code",
      "metadata": {
        "id": "CSpVKU5DLNud",
        "colab_type": "code",
        "colab": {}
      },
      "source": [
        "divmod(29, 5)"
      ],
      "execution_count": 0,
      "outputs": []
    },
    {
      "cell_type": "code",
      "metadata": {
        "id": "985aTpAwMQNn",
        "colab_type": "code",
        "colab": {}
      },
      "source": [
        "qr = divmod(29, 5)"
      ],
      "execution_count": 0,
      "outputs": []
    },
    {
      "cell_type": "code",
      "metadata": {
        "id": "FZ8sNxC3MXD9",
        "colab_type": "code",
        "colab": {}
      },
      "source": [
        "qr"
      ],
      "execution_count": 0,
      "outputs": []
    },
    {
      "cell_type": "code",
      "metadata": {
        "id": "8Ci1VQWmMYFA",
        "colab_type": "code",
        "colab": {}
      },
      "source": [
        "qr[0]"
      ],
      "execution_count": 0,
      "outputs": []
    },
    {
      "cell_type": "code",
      "metadata": {
        "id": "w8a2XeVfMZ28",
        "colab_type": "code",
        "colab": {}
      },
      "source": [
        "qr[1]"
      ],
      "execution_count": 0,
      "outputs": []
    },
    {
      "cell_type": "code",
      "metadata": {
        "id": "7RrOfjajMbta",
        "colab_type": "code",
        "colab": {}
      },
      "source": [
        "alpha, beta = divmod(29, 5)"
      ],
      "execution_count": 0,
      "outputs": []
    },
    {
      "cell_type": "code",
      "metadata": {
        "id": "kGQSKYzjMsAq",
        "colab_type": "code",
        "colab": {}
      },
      "source": [
        "alpha"
      ],
      "execution_count": 0,
      "outputs": []
    },
    {
      "cell_type": "code",
      "metadata": {
        "id": "42pXl4qGMtag",
        "colab_type": "code",
        "colab": {}
      },
      "source": [
        "beta"
      ],
      "execution_count": 0,
      "outputs": []
    },
    {
      "cell_type": "code",
      "metadata": {
        "id": "QIB6GGJnMuZG",
        "colab_type": "code",
        "colab": {}
      },
      "source": [
        "def mydivmod(a: int, b:int) -> (int, int):\n",
        "    return a // b, a % b"
      ],
      "execution_count": 0,
      "outputs": []
    },
    {
      "cell_type": "code",
      "metadata": {
        "id": "YqJST_EpM-XT",
        "colab_type": "code",
        "colab": {}
      },
      "source": [
        ""
      ],
      "execution_count": 0,
      "outputs": []
    }
  ]
}